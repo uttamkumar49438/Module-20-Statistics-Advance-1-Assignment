{
  "nbformat": 4,
  "nbformat_minor": 0,
  "metadata": {
    "colab": {
      "provenance": []
    },
    "kernelspec": {
      "name": "python3",
      "display_name": "Python 3"
    },
    "language_info": {
      "name": "python"
    }
  },
  "cells": [
    {
      "cell_type": "markdown",
      "source": [
        "Q1. What is the Probability density function?"
      ],
      "metadata": {
        "id": "kzlprngd-lrc"
      }
    },
    {
      "cell_type": "markdown",
      "source": [
        "Probability Density Function (PDF) is a statistical function that describes the likelihood of a continuous random variable falling within a particular range of values. In other words, it represents the probability distribution of a continuous random variable."
      ],
      "metadata": {
        "id": "cY2ISohe-mmU"
      }
    },
    {
      "cell_type": "markdown",
      "source": [
        "Q2. What are the types of Probability distribution?"
      ],
      "metadata": {
        "id": "lYo8Nogm-uH2"
      }
    },
    {
      "cell_type": "markdown",
      "source": [
        "Bernoulli Distribution: Describes the probability distribution of a random variable that takes on only two possible outcomes, typically labeled as success (1) and failure (0).\n",
        "Binomial Distribution: Models the number of successes in a fixed number of independent Bernoulli trials.\n",
        "Poisson Distribution: Represents the number of events occurring in a fixed interval of time or space, assuming a constant average rate of occurrence and independence between events."
      ],
      "metadata": {
        "id": "mQKqJ5rR-yn1"
      }
    },
    {
      "cell_type": "markdown",
      "source": [
        "Q3. Write a Python function to calculate the probability density function of a normal distribution with\n",
        "given mean and standard deviation at a given point."
      ],
      "metadata": {
        "id": "_jdX6gw4-64e"
      }
    },
    {
      "cell_type": "code",
      "source": [
        "from scipy.stats import norm\n",
        "\n",
        "def normal_pdf(x, mean, std_dev):\n",
        "    \"\"\"\n",
        "    Calculate the probability density function (PDF) of a normal distribution\n",
        "    at a given point x, with the specified mean and standard deviation.\n",
        "\n",
        "    Parameters:\n",
        "    - x (float): The point at which to evaluate the PDF.\n",
        "    - mean (float): The mean of the normal distribution.\n",
        "    - std_dev (float): The standard deviation of the normal distribution.\n",
        "\n",
        "    Returns:\n",
        "    - pdf (float): The value of the PDF at the given point x.\n",
        "    \"\"\"\n",
        "    pdf = norm.pdf(x, loc=mean, scale=std_dev)\n",
        "    return pdf\n",
        "\n",
        "# Example usage:\n",
        "mean = 0\n",
        "std_dev = 1\n",
        "x = 1\n",
        "pdf_at_x = normal_pdf(x, mean, std_dev)\n",
        "print(\"PDF at x =\", x, \":\", pdf_at_x)"
      ],
      "metadata": {
        "id": "SjialkrM_dAb"
      },
      "execution_count": null,
      "outputs": []
    },
    {
      "cell_type": "markdown",
      "source": [
        "Q4. What are the properties of Binomial distribution? Give two examples of events where binomial\n",
        "distribution can be applied."
      ],
      "metadata": {
        "id": "-aWV41b3_fjj"
      }
    },
    {
      "cell_type": "markdown",
      "source": [
        "The binomial distribution has the following properties:\n",
        "\n",
        "=Discrete Distribution: The binomial distribution is a discrete probability distribution. It represents the number of successes in a fixed number of independent Bernoulli trials, where each trial has only two possible outcomes (usually labeled as success and failure).\n",
        "=Two Parameters: The binomial distribution is characterized by two parameters: n and p.\n",
        "n represents the number of trials.\n",
        "p represents the probability of success in each trial.\n",
        "=Probability Mass Function (PMF): The probability mass function of the binomial distribution gives the probability of getting exactly k successes in n trials, where k is any integer between 0 and n.\n",
        "=Mean and Variance: The mean (expected value) of the binomial distribution is n * p, and the variance is n * p * (1 - p)."
      ],
      "metadata": {
        "id": "khE9LR4p_k9Z"
      }
    },
    {
      "cell_type": "markdown",
      "source": [
        "Q5. Generate a random sample of size 1000 from a binomial distribution with probability of success 0.4\n",
        "and plot a histogram of the results using matplotlib."
      ],
      "metadata": {
        "id": "oRETtFSP_vgc"
      }
    },
    {
      "cell_type": "code",
      "source": [
        "import numpy as np\n",
        "import matplotlib.pyplot as plt\n",
        "\n",
        "# Parameters\n",
        "n = 1000  # Sample size\n",
        "p = 0.4   # Probability of success\n",
        "\n",
        "# Generate random sample\n",
        "sample = np.random.binomial(n=1, p=p, size=n)\n",
        "\n",
        "# Plot histogram\n",
        "plt.hist(sample, bins=2, color='skyblue', edgecolor='black')\n",
        "plt.title('Histogram of Binomial Distribution Sample')\n",
        "plt.xlabel('Success (1) or Failure (0)')\n",
        "plt.ylabel('Frequency')\n",
        "plt.xticks([0, 1], ['Failure', 'Success'])\n",
        "plt.grid(axis='y', linestyle='--', alpha=0.7)\n",
        "plt.show()"
      ],
      "metadata": {
        "id": "-qSAkMoM_3Sz"
      },
      "execution_count": null,
      "outputs": []
    },
    {
      "cell_type": "markdown",
      "source": [
        "Q6. Write a Python function to calculate the cumulative distribution function of a Poisson distribution\n",
        "with given mean at a given point."
      ],
      "metadata": {
        "id": "S5zoW9m-_8pM"
      }
    },
    {
      "cell_type": "code",
      "source": [
        "from scipy.stats import poisson\n",
        "\n",
        "def poisson_cdf(mean, k):\n",
        "    \"\"\"\n",
        "    Calculate the cumulative distribution function (CDF) of a Poisson distribution.\n",
        "\n",
        "    Parameters:\n",
        "    - mean: the mean of the Poisson distribution\n",
        "    - k: the point at which to calculate the CDF\n",
        "\n",
        "    Returns:\n",
        "    - cdf: the value of the CDF at the specified point\n",
        "    \"\"\"\n",
        "    cdf = poisson.cdf(k, mu=mean)\n",
        "    return cdf\n",
        "\n",
        "# Example usage\n",
        "mean = 3  # Mean of the Poisson distribution\n",
        "point = 2  # Point at which to calculate the CDF\n",
        "cdf_value = poisson_cdf(mean, point)\n",
        "print(f\"The cumulative distribution function (CDF) at point {point} is {cdf_value:.4f}\")"
      ],
      "metadata": {
        "id": "gwfiJpQgABsc"
      },
      "execution_count": null,
      "outputs": []
    },
    {
      "cell_type": "markdown",
      "source": [
        "Q7. How Binomial distribution different from Poisson distribution?"
      ],
      "metadata": {
        "id": "OeIKPPByAJqR"
      }
    },
    {
      "cell_type": "markdown",
      "source": [
        "the main differences between the binomial and Poisson distributions lie in the nature of the events being modeled, the conditions under which they are applicable, and the parameters that characterize them."
      ],
      "metadata": {
        "id": "ONSgU3HHAOZZ"
      }
    },
    {
      "cell_type": "markdown",
      "source": [
        "Q8. Generate a random sample of size 1000 from a Poisson distribution with mean 5 and calculate the\n",
        "sample mean and variance."
      ],
      "metadata": {
        "id": "iDilfVmkAWAA"
      }
    },
    {
      "cell_type": "code",
      "source": [
        "import numpy as np\n",
        "\n",
        "# Parameters\n",
        "sample_size = 1000\n",
        "mean = 5\n",
        "\n",
        "# Generate random sample\n",
        "random_sample = np.random.poisson(mean, sample_size)\n",
        "\n",
        "# Calculate sample mean and variance\n",
        "sample_mean = np.mean(random_sample)\n",
        "sample_variance = np.var(random_sample)\n",
        "\n",
        "print(\"Sample Mean:\", sample_mean)\n",
        "print(\"Sample Variance:\", sample_variance)"
      ],
      "metadata": {
        "id": "jcyUJFGjAhHh"
      },
      "execution_count": null,
      "outputs": []
    },
    {
      "cell_type": "markdown",
      "source": [
        "Q9. How mean and variance are related in Binomial distribution and Poisson distribution?"
      ],
      "metadata": {
        "id": "TD2_t9jbAis_"
      }
    },
    {
      "cell_type": "markdown",
      "source": [
        "Binomial distribution, the variance depends on both\n",
        "�\n",
        "n and\n",
        "�\n",
        "p, whereas in the Poisson distribution, the variance is solely determined by the rate parameter\n",
        "�\n",
        "λ, which is also equal to the mean."
      ],
      "metadata": {
        "id": "btJ9MZ__AoW3"
      }
    },
    {
      "cell_type": "markdown",
      "source": [
        "Q10. In normal distribution with respect to mean position, where does the least frequent data appear?"
      ],
      "metadata": {
        "id": "yUVCJX8hAttP"
      }
    },
    {
      "cell_type": "markdown",
      "source": [
        "In a normal distribution, which is symmetric around its mean, the least frequent data appears at the tails of the distribution, farthest away from the mean. Specifically, the least frequent data points are found at the extreme ends of the distribution, which correspond to the highest and lowest values in the dataset. These extreme values are located in the tails of the distribution, which represent the regions of low probability density."
      ],
      "metadata": {
        "id": "Yjkv3sqqAzpK"
      }
    }
  ]
}